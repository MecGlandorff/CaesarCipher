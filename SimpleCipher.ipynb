{
 "cells": [
  {
   "cell_type": "markdown",
   "metadata": {},
   "source": [
    "This simple cipher uses the Caesar Cipher https://brilliant.org/wiki/caesar-cipher/#:~:text=A%20Caesar%20cipher%20is%20a,an%20A%2C%20and%20so%20on\n",
    "\n",
    "CaesarCipher class encrypts and decrypts text using the Caesar Cipher technique.\n",
    "\n",
    "- `__init__(shift)`: Initializes the cipher with a given shift value.\n",
    "- `_remove_special_chars(text)`: Removes non-alphanumeric characters from the text.\n",
    "- `encrypt(plaintext)`: Encrypts the plaintext by shifting letters to the right by the shift value.\n",
    "- `decrypt(encrypted_text)`: Decrypts the encrypted text by shifting letters to the left by the shift value.\n",
    "\"\"\""
   ]
  },
  {
   "cell_type": "code",
   "execution_count": 2,
   "metadata": {},
   "outputs": [],
   "source": [
    "class CaesarCipher:\n",
    "    def __init__(self, shift: int):\n",
    "        self.shift = shift\n",
    "        self.alphabet = 'abcdefghijklmnopqrstuvwxyz'\n",
    "        self.alphabet_size = len(self.alphabet)\n",
    "\n",
    "    def _remove_special_chars(self, text: str) -> str:\n",
    "        return ''.join(filter(str.isalnum, text))\n",
    "\n",
    "    def encrypt(self, plaintext: str) -> str:\n",
    "        encrypted_text = ''\n",
    "\n",
    "        # Remove spaces and special characters from the code for less visible structure in encrypted text\n",
    "        plaintext = self._remove_special_chars(plaintext)\n",
    "        for char in plaintext:\n",
    "            if char.lower() in self.alphabet:\n",
    "                encrypted_index = (self.alphabet.index(char.lower()) + self.shift) % self.alphabet_size\n",
    "                encrypted_char = self.alphabet[encrypted_index]\n",
    "                if char.isupper():\n",
    "                    encrypted_char = encrypted_char.upper()\n",
    "                encrypted_text += encrypted_char\n",
    "\n",
    "            # Can't encrypt numbers and special characters with Caesars Cipher unless you add all these characters to the self.alphabet\n",
    "            else:\n",
    "                encrypted_text += char \n",
    "        return encrypted_text\n",
    "\n",
    "    def decrypt(self, encrypted_text: str) -> str:\n",
    "        decrypted_text = ''\n",
    "        for char in encrypted_text:\n",
    "            if char.lower() in self.alphabet:\n",
    "                decrypt_index = (self.alphabet.index(char.lower()) - self.shift) % self.alphabet_size\n",
    "                decrypted_char = self.alphabet[decrypt_index]\n",
    "                if char.isupper():\n",
    "                    decrypted_char = decrypted_char.upper()\n",
    "                decrypted_text += decrypted_char\n",
    "\n",
    "            # Same as before dont handle numbers and special characters\n",
    "            else:\n",
    "                decrypted_text += char  \n",
    "        return decrypted_text\n",
    "\n"
   ]
  },
  {
   "cell_type": "markdown",
   "metadata": {},
   "source": [
    "Below you can use the Caesar Cipher"
   ]
  },
  {
   "cell_type": "code",
   "execution_count": 3,
   "metadata": {},
   "outputs": [
    {
     "name": "stdout",
     "output_type": "stream",
     "text": [
      "Encrypted: PudqgPuvGxuvohbriqxpehuirxuSulyhwGulyhzhuhsurxgwrvdbwkdwwkhbzhuhshuihfwobqrupdowkdqnbrxyhubpxfk\n",
      "Decrypted: MrandMrsDursleyofnumberfourPrivetDrivewereproudtosaythattheywereperfectlynormalthankyouverymuch\n"
     ]
    }
   ],
   "source": [
    "# Shift is how many shifts you want the letter to make for the caesar cipher\n",
    "shift = 3 \n",
    "cipher = CaesarCipher(shift)\n",
    "\n",
    "# The message you want to encrypt is below \n",
    "plaintext = \"Mr. and Mrs. Dursley of number four, Privet Drive, were proud to say that they were perfectly normal, thank you very much.\"\n",
    "\n",
    "# Encrypt the message\n",
    "encrypted_text = cipher.encrypt(plaintext)\n",
    "print(\"Encrypted:\", encrypted_text)\n",
    "\n",
    "# Decrypting the message\n",
    "decrypted_text = cipher.decrypt(encrypted_text)\n",
    "print(\"Decrypted:\", decrypted_text)\n"
   ]
  },
  {
   "cell_type": "code",
   "execution_count": null,
   "metadata": {},
   "outputs": [],
   "source": []
  }
 ],
 "metadata": {
  "kernelspec": {
   "display_name": "Python 3 (ipykernel)",
   "language": "python",
   "name": "python3"
  },
  "language_info": {
   "codemirror_mode": {
    "name": "ipython",
    "version": 3
   },
   "file_extension": ".py",
   "mimetype": "text/x-python",
   "name": "python",
   "nbconvert_exporter": "python",
   "pygments_lexer": "ipython3",
   "version": "3.9.18"
  }
 },
 "nbformat": 4,
 "nbformat_minor": 2
}
